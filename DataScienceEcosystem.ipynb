{
  "cells": [
    {
      "attachments": {},
      "cell_type": "markdown",
      "id": "61e952b2-5c18-4b50-aefa-c1735721b1c2",
      "metadata": {},
      "source": [
        "# Data Science Tools and Ecosystem"
      ]
    },
    {
      "attachments": {},
      "cell_type": "markdown",
      "id": "d81e850e-2c01-4e37-85bd-0733e1952cb5",
      "metadata": {},
      "source": [
        "In this notebook, Data Science Tools and Ecosystem are summarized"
      ]
    },
    {
      "attachments": {},
      "cell_type": "markdown",
      "id": "68b7fa81-46f6-4ea9-a7a0-8fce17a022be",
      "metadata": {},
      "source": [
        "**Objectives:**\n",
        "- Data preprocessing and cleaning are crucial\n",
        "- Data is valuable\n",
        "- Exploratory data analysis is essential:\n",
        "- Data visualization is powerful"
      ]
    },
    {
      "attachments": {},
      "cell_type": "markdown",
      "id": "dd40001e-6f75-4801-bcb2-d3ab89d4a226",
      "metadata": {},
      "source": [
        "Some of the popular languages that Data Scientists use are:\n",
        "1. Python\n",
        "2. R\n",
        "3. SAS"
      ]
    },
    {
      "attachments": {},
      "cell_type": "markdown",
      "id": "4e68be7d-1db7-4b1a-b1d5-79e9739d8cb5",
      "metadata": {},
      "source": [
        "Some of the commonly used libraries used by Data Scientists include:\n",
        "1. TensorFlow\n",
        "2. Matplotlib\n",
        "3. NumPy"
      ]
    },
    {
      "attachments": {},
      "cell_type": "markdown",
      "id": "eb723a11-aa2e-48b4-93c3-7a401b858344",
      "metadata": {},
      "source": [
        "|Data Science Tools.|\n",
        "|-------------------|\n",
        "|Visual Studio Code |\n",
        "|Jupyter Notebook   |\n",
        "|RStudio            |\n",
        "\n",
        "\n"
      ]
    },
    {
      "attachments": {},
      "cell_type": "markdown",
      "id": "79dfad50-99ae-40db-bf26-353b8a1551ba",
      "metadata": {},
      "source": [
        "### Below are a few examples of evaluating arithmetic expressions in Python"
      ]
    },
    {
      "cell_type": "code",
      "execution_count": 3,
      "id": "3aaa20bc-ba5b-48c2-9a2a-c05fd27b2004",
      "metadata": {
        "trusted": true
      },
      "outputs": [
        {
          "data": {
            "text/plain": [
              "17"
            ]
          },
          "execution_count": 3,
          "metadata": {},
          "output_type": "execute_result"
        }
      ],
      "source": [
        "# This a simple arithmetic expression to mutiply then add integers\n",
        "(3*4)+5"
      ]
    },
    {
      "cell_type": "code",
      "execution_count": 4,
      "id": "1eb2f8e9-0da4-4583-8d31-336daee6025f",
      "metadata": {
        "trusted": true
      },
      "outputs": [
        {
          "data": {
            "text/plain": [
              "3.3333333333333335"
            ]
          },
          "execution_count": 4,
          "metadata": {},
          "output_type": "execute_result"
        }
      ],
      "source": [
        "# This will convert 200 minutes to hours by diving by 60\n",
        "200/60"
      ]
    },
    {
      "attachments": {},
      "cell_type": "markdown",
      "id": "f778c105-a4b1-41a9-8d6e-30e49a5a457d",
      "metadata": {},
      "source": [
        "## Author\n",
        "Juri K."
      ]
    },
    {
      "cell_type": "code",
      "execution_count": null,
      "id": "e12ef235-9157-4d1a-8939-ca0bb9f364ef",
      "metadata": {},
      "outputs": [],
      "source": []
    }
  ],
  "metadata": {
    "kernelspec": {
      "display_name": "Python 3",
      "language": "python",
      "name": "python3"
    },
    "language_info": {
      "codemirror_mode": {
        "name": "ipython",
        "version": 3
      },
      "file_extension": ".py",
      "mimetype": "text/x-python",
      "name": "python",
      "nbconvert_exporter": "python",
      "pygments_lexer": "ipython3",
      "version": "3.11.3"
    }
  },
  "nbformat": 4,
  "nbformat_minor": 5
}
