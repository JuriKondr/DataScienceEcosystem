{
  "metadata": {
    "kernelspec": {
      "name": "python",
      "display_name": "Python (Pyodide)",
      "language": "python"
    },
    "language_info": {
      "codemirror_mode": {
        "name": "python",
        "version": 3
      },
      "file_extension": ".py",
      "mimetype": "text/x-python",
      "name": "python",
      "nbconvert_exporter": "python",
      "pygments_lexer": "ipython3",
      "version": "3.8"
    }
  },
  "nbformat_minor": 5,
  "nbformat": 4,
  "cells": [
    {
      "cell_type": "markdown",
      "source": "# Data Science Tools and Ecosystem",
      "metadata": {},
      "id": "61e952b2-5c18-4b50-aefa-c1735721b1c2"
    },
    {
      "cell_type": "markdown",
      "source": "In this notebook, Data Science Tools and Ecosystem are summarized",
      "metadata": {},
      "id": "d81e850e-2c01-4e37-85bd-0733e1952cb5"
    },
    {
      "cell_type": "markdown",
      "source": "**Objectives:**\n- Data preprocessing and cleaning are crucial\n- Data is valuable\n- Exploratory data analysis is essential:\n- Data visualization is powerful",
      "metadata": {},
      "id": "68b7fa81-46f6-4ea9-a7a0-8fce17a022be"
    },
    {
      "cell_type": "markdown",
      "source": "Some of the popular languages that Data Scientists use are:\n1. Python\n2. R\n3. SAS",
      "metadata": {},
      "id": "dd40001e-6f75-4801-bcb2-d3ab89d4a226"
    },
    {
      "cell_type": "markdown",
      "source": "Some of the commonly used libraries used by Data Scientists include:\n1. TensorFlow\n2. Matplotlib\n3. NumPy",
      "metadata": {},
      "id": "4e68be7d-1db7-4b1a-b1d5-79e9739d8cb5"
    },
    {
      "cell_type": "markdown",
      "source": "|Data Science Tools.|\n|-------------------|\n|Visual Studio Code |\n|Jupyter Notebook   |\n|RStudio            |\n\n\n",
      "metadata": {},
      "id": "eb723a11-aa2e-48b4-93c3-7a401b858344"
    },
    {
      "cell_type": "markdown",
      "source": "### Below are a few examples of evaluating arithmetic expressions in Python",
      "metadata": {},
      "id": "79dfad50-99ae-40db-bf26-353b8a1551ba"
    },
    {
      "cell_type": "markdown",
      "source": "*This a simple arithmetic expression to mutiply then add integers*",
      "metadata": {},
      "id": "7f6cce40-8f3d-4aea-a619-5f713d48f95d"
    },
    {
      "cell_type": "code",
      "source": "(3*4)+5",
      "metadata": {
        "trusted": true
      },
      "execution_count": 5,
      "outputs": [
        {
          "execution_count": 5,
          "output_type": "execute_result",
          "data": {
            "text/plain": "17"
          },
          "metadata": {}
        }
      ],
      "id": "3aaa20bc-ba5b-48c2-9a2a-c05fd27b2004"
    },
    {
      "cell_type": "markdown",
      "source": "*This will convert 200 minutes to hours by diving by 60*",
      "metadata": {},
      "id": "e852e524-8f3d-49f7-bfc3-068af0fcb74e"
    },
    {
      "cell_type": "code",
      "source": "200/60",
      "metadata": {
        "trusted": true
      },
      "execution_count": 6,
      "outputs": [
        {
          "execution_count": 6,
          "output_type": "execute_result",
          "data": {
            "text/plain": "3.3333333333333335"
          },
          "metadata": {}
        }
      ],
      "id": "1eb2f8e9-0da4-4583-8d31-336daee6025f"
    },
    {
      "cell_type": "markdown",
      "source": "## Author\nJuri K.",
      "metadata": {},
      "id": "f778c105-a4b1-41a9-8d6e-30e49a5a457d"
    },
    {
      "cell_type": "code",
      "source": "",
      "metadata": {},
      "execution_count": null,
      "outputs": [],
      "id": "e12ef235-9157-4d1a-8939-ca0bb9f364ef"
    }
  ]
}